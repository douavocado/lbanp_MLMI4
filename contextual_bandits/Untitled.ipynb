{
 "cells": [
  {
   "cell_type": "code",
   "execution_count": 1,
   "id": "1e00032d",
   "metadata": {},
   "outputs": [],
   "source": [
    "from models.lbanpnd import LBANPND\n",
    "from models.tnpnd import TNPND"
   ]
  },
  {
   "cell_type": "code",
   "execution_count": 2,
   "id": "a0becc3c",
   "metadata": {},
   "outputs": [],
   "source": [
    "lbanp_model = LBANPND(num_latents=8,\n",
    "                dim_x= 2,\n",
    "                dim_y= 5,\n",
    "                d_model=16,\n",
    "                emb_depth=3,\n",
    "                dim_feedforward=64,\n",
    "                nhead=1,\n",
    "                dropout=0.0,\n",
    "                num_layers=4,\n",
    "                num_std_layers=2,\n",
    "                drop_y=0.5,\n",
    "                cov_approx='lowrank', # cholesky or lowrank parameterization\n",
    "                prj_dim=20,\n",
    "                prj_depth=4,\n",
    "                diag_depth=4)\n",
    "\n",
    "tnp_model = TNPND(\n",
    "        dim_x= 2,\n",
    "                dim_y= 5,\n",
    "                d_model=16,\n",
    "                emb_depth=3,\n",
    "                dim_feedforward=64,\n",
    "                nhead=1,\n",
    "                dropout=0.0,\n",
    "                num_layers=4,\n",
    "                num_std_layers=2,\n",
    "                drop_y=0.5,\n",
    "                cov_approx='lowrank', # cholesky or lowrank parameterization\n",
    "                prj_dim=20,\n",
    "                prj_depth=4,\n",
    "                diag_depth=4,\n",
    "    device=\"cpu\"\n",
    "    )"
   ]
  },
  {
   "cell_type": "code",
   "execution_count": 3,
   "id": "f1c1992f",
   "metadata": {},
   "outputs": [],
   "source": [
    "from data.wheel import sample_wheel_data, WheelBanditSampler"
   ]
  },
  {
   "cell_type": "code",
   "execution_count": 4,
   "id": "c2d44de4",
   "metadata": {},
   "outputs": [],
   "source": [
    "sampler = WheelBanditSampler()"
   ]
  },
  {
   "cell_type": "code",
   "execution_count": 5,
   "id": "69ecc300",
   "metadata": {},
   "outputs": [],
   "source": [
    "batch = sampler.sample(\n",
    "            batch_size=8,\n",
    "            device=\"cpu\",\n",
    "            seed=0,\n",
    "            reward=\"all\"\n",
    "        )"
   ]
  },
  {
   "cell_type": "code",
   "execution_count": 6,
   "id": "da3e64d1",
   "metadata": {},
   "outputs": [
    {
     "data": {
      "text/plain": [
       "tensor([[ 0.3317, -0.1982],\n",
       "        [ 0.4099, -0.1627],\n",
       "        [ 0.0421, -0.8913],\n",
       "        ...,\n",
       "        [-0.3395,  0.6278],\n",
       "        [-0.5032,  0.0117],\n",
       "        [-0.0826,  0.6349]])"
      ]
     },
     "execution_count": 6,
     "metadata": {},
     "output_type": "execute_result"
    }
   ],
   "source": [
    "batch.x[0]"
   ]
  },
  {
   "cell_type": "code",
   "execution_count": 7,
   "id": "5581351b",
   "metadata": {},
   "outputs": [
    {
     "data": {
      "text/plain": [
       "torch.Size([8, 562, 5])"
      ]
     },
     "execution_count": 7,
     "metadata": {},
     "output_type": "execute_result"
    }
   ],
   "source": [
    "batch.y.shape"
   ]
  },
  {
   "cell_type": "code",
   "execution_count": 8,
   "id": "1c588f47",
   "metadata": {},
   "outputs": [
    {
     "data": {
      "text/plain": [
       "tensor([1.1835, 0.9955, 0.9711, 1.0368, 0.9504])"
      ]
     },
     "execution_count": 8,
     "metadata": {},
     "output_type": "execute_result"
    }
   ],
   "source": [
    "batch.y[0][0]"
   ]
  },
  {
   "cell_type": "code",
   "execution_count": 9,
   "id": "68dc5992",
   "metadata": {},
   "outputs": [
    {
     "data": {
      "text/plain": [
       "torch.Size([8, 512, 2])"
      ]
     },
     "execution_count": 9,
     "metadata": {},
     "output_type": "execute_result"
    }
   ],
   "source": [
    "batch.xc.shape"
   ]
  },
  {
   "cell_type": "code",
   "execution_count": 10,
   "id": "8f2a29a2",
   "metadata": {},
   "outputs": [
    {
     "data": {
      "text/plain": [
       "torch.Size([8, 512, 5])"
      ]
     },
     "execution_count": 10,
     "metadata": {},
     "output_type": "execute_result"
    }
   ],
   "source": [
    "batch.yc.shape"
   ]
  },
  {
   "cell_type": "code",
   "execution_count": 11,
   "id": "85d2726b",
   "metadata": {},
   "outputs": [
    {
     "data": {
      "text/plain": [
       "torch.Size([8, 50, 2])"
      ]
     },
     "execution_count": 11,
     "metadata": {},
     "output_type": "execute_result"
    }
   ],
   "source": [
    "batch.xt.shape"
   ]
  },
  {
   "cell_type": "code",
   "execution_count": 12,
   "id": "b27da2ff",
   "metadata": {},
   "outputs": [
    {
     "data": {
      "text/plain": [
       "torch.Size([8, 50, 5])"
      ]
     },
     "execution_count": 12,
     "metadata": {},
     "output_type": "execute_result"
    }
   ],
   "source": [
    "batch.yt.shape"
   ]
  },
  {
   "cell_type": "code",
   "execution_count": 13,
   "id": "c1d84d54",
   "metadata": {},
   "outputs": [
    {
     "name": "stdout",
     "output_type": "stream",
     "text": [
      "lbanpnd out encoder shapetorch.Size([8, 50, 16])\n"
     ]
    },
    {
     "data": {
      "text/plain": [
       "AttrDict({'tar_ll': tensor(-32101.8203, grad_fn=<MeanBackward0>), 'loss': tensor(32101.8203, grad_fn=<NegBackward0>), 'mean_std': tensor(0.0262, grad_fn=<MeanBackward0>)})"
      ]
     },
     "execution_count": 13,
     "metadata": {},
     "output_type": "execute_result"
    }
   ],
   "source": [
    "lbanp_model(batch)"
   ]
  },
  {
   "cell_type": "code",
   "execution_count": 14,
   "id": "8ce34ce3",
   "metadata": {},
   "outputs": [
    {
     "name": "stdout",
     "output_type": "stream",
     "text": [
      "out encoder tnp torch.Size([8, 562, 16])\n"
     ]
    },
    {
     "data": {
      "text/plain": [
       "AttrDict({'loss_target': tensor(689.5110, grad_fn=<NegBackward0>), 'loss_ctx': tensor(1772.1196, grad_fn=<MeanBackward0>), 'loss': tensor(2461.6306, grad_fn=<AddBackward0>), 'mean_std': tensor(0.0323, grad_fn=<MeanBackward0>), 'rmse': tensor(335.2517, grad_fn=<MeanBackward0>)})"
      ]
     },
     "execution_count": 14,
     "metadata": {},
     "output_type": "execute_result"
    }
   ],
   "source": [
    "tnp_model(batch)"
   ]
  },
  {
   "cell_type": "code",
   "execution_count": null,
   "id": "1659b959",
   "metadata": {},
   "outputs": [],
   "source": []
  }
 ],
 "metadata": {
  "kernelspec": {
   "display_name": "Python 3 (ipykernel)",
   "language": "python",
   "name": "python3"
  },
  "language_info": {
   "codemirror_mode": {
    "name": "ipython",
    "version": 3
   },
   "file_extension": ".py",
   "mimetype": "text/x-python",
   "name": "python",
   "nbconvert_exporter": "python",
   "pygments_lexer": "ipython3",
   "version": "3.7.16"
  }
 },
 "nbformat": 4,
 "nbformat_minor": 5
}
