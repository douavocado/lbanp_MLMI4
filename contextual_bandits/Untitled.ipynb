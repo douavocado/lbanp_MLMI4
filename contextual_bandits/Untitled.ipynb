{
 "cells": [
  {
   "cell_type": "code",
   "execution_count": 1,
   "id": "1e00032d",
   "metadata": {},
   "outputs": [],
   "source": [
    "from models.lbanp import LBANP\n",
    "from models.tnpnd import TNPND"
   ]
  },
  {
   "cell_type": "code",
   "execution_count": 2,
   "id": "a0becc3c",
   "metadata": {},
   "outputs": [],
   "source": [
    "lbanp_model = LBANP(num_latents=8,\n",
    "                dim_x= 2,\n",
    "                dim_y= 5,\n",
    "                d_model=16,\n",
    "                emb_depth=3,\n",
    "                dim_feedforward=64,\n",
    "                nhead=1,\n",
    "                dropout=0.0,\n",
    "                num_layers=4,\n",
    "                drop_y=0.5,\n",
    "                device=\"cpu\")\n",
    "\n",
    "tnp_model = TNPND(\n",
    "        dim_x= 2,\n",
    "                dim_y= 5,\n",
    "                d_model=16,\n",
    "                emb_depth=3,\n",
    "                dim_feedforward=64,\n",
    "                nhead=1,\n",
    "                dropout=0.0,\n",
    "                num_layers=4,\n",
    "                num_std_layers=2,\n",
    "                drop_y=0.5,\n",
    "                cov_approx='lowrank', # cholesky or lowrank parameterization\n",
    "                prj_dim=20,\n",
    "                prj_depth=4,\n",
    "                diag_depth=4,\n",
    "    device=\"cpu\"\n",
    "    )"
   ]
  },
  {
   "cell_type": "code",
   "execution_count": 3,
   "id": "f1c1992f",
   "metadata": {},
   "outputs": [],
   "source": [
    "from data.wheel import sample_wheel_data, WheelBanditSampler"
   ]
  },
  {
   "cell_type": "code",
   "execution_count": 4,
   "id": "c2d44de4",
   "metadata": {},
   "outputs": [],
   "source": [
    "sampler = WheelBanditSampler()"
   ]
  },
  {
   "cell_type": "code",
   "execution_count": 5,
   "id": "69ecc300",
   "metadata": {},
   "outputs": [],
   "source": [
    "batch = sampler.sample(\n",
    "            batch_size=8,\n",
    "            device=\"cpu\",\n",
    "            seed=0,\n",
    "            reward=\"all\"\n",
    "        )"
   ]
  },
  {
   "cell_type": "code",
   "execution_count": 12,
   "id": "1678dca9",
   "metadata": {},
   "outputs": [],
   "source": [
    "from inference.ar import ar_predict, ar_predict_for_loop\n",
    "import numpy as np\n",
    "import torch\n",
    "generator = torch.Generator().manual_seed(0)\n",
    "mean, var, yt, ft = ar_predict(generator, lbanp_model, [batch.xc], [batch.yc], [batch.xt], num_samples=50)"
   ]
  },
  {
   "cell_type": "code",
   "execution_count": 14,
   "id": "d7251b72",
   "metadata": {},
   "outputs": [
    {
     "data": {
      "text/plain": [
       "torch.Size([8, 50, 5])"
      ]
     },
     "execution_count": 14,
     "metadata": {},
     "output_type": "execute_result"
    }
   ],
   "source": [
    "mean[0].shape"
   ]
  },
  {
   "cell_type": "code",
   "execution_count": 13,
   "id": "da3e64d1",
   "metadata": {},
   "outputs": [
    {
     "data": {
      "text/plain": [
       "Normal(loc: torch.Size([8, 50, 5]), scale: torch.Size([8, 50, 5]))"
      ]
     },
     "execution_count": 13,
     "metadata": {},
     "output_type": "execute_result"
    }
   ],
   "source": [
    "lbanp_model.predict(batch.xc, batch.yc, batch.xt)"
   ]
  },
  {
   "cell_type": "code",
   "execution_count": 9,
   "id": "5581351b",
   "metadata": {},
   "outputs": [
    {
     "data": {
      "text/plain": [
       "torch.Size([8, 562, 5])"
      ]
     },
     "execution_count": 9,
     "metadata": {},
     "output_type": "execute_result"
    }
   ],
   "source": [
    "batch.y.shape"
   ]
  },
  {
   "cell_type": "code",
   "execution_count": 10,
   "id": "1c588f47",
   "metadata": {},
   "outputs": [
    {
     "data": {
      "text/plain": [
       "tensor([1.1835, 0.9955, 0.9711, 1.0368, 0.9504])"
      ]
     },
     "execution_count": 10,
     "metadata": {},
     "output_type": "execute_result"
    }
   ],
   "source": [
    "batch.y[0][0]"
   ]
  },
  {
   "cell_type": "code",
   "execution_count": 11,
   "id": "68dc5992",
   "metadata": {},
   "outputs": [
    {
     "data": {
      "text/plain": [
       "torch.Size([8, 512, 2])"
      ]
     },
     "execution_count": 11,
     "metadata": {},
     "output_type": "execute_result"
    }
   ],
   "source": [
    "batch.xc.shape"
   ]
  },
  {
   "cell_type": "code",
   "execution_count": 12,
   "id": "8f2a29a2",
   "metadata": {},
   "outputs": [
    {
     "data": {
      "text/plain": [
       "torch.Size([8, 512, 5])"
      ]
     },
     "execution_count": 12,
     "metadata": {},
     "output_type": "execute_result"
    }
   ],
   "source": [
    "batch.yc.shape"
   ]
  },
  {
   "cell_type": "code",
   "execution_count": 13,
   "id": "85d2726b",
   "metadata": {},
   "outputs": [
    {
     "data": {
      "text/plain": [
       "torch.Size([8, 50, 2])"
      ]
     },
     "execution_count": 13,
     "metadata": {},
     "output_type": "execute_result"
    }
   ],
   "source": [
    "batch.xt.shape"
   ]
  },
  {
   "cell_type": "code",
   "execution_count": 14,
   "id": "b27da2ff",
   "metadata": {},
   "outputs": [
    {
     "data": {
      "text/plain": [
       "torch.Size([8, 50, 5])"
      ]
     },
     "execution_count": 14,
     "metadata": {},
     "output_type": "execute_result"
    }
   ],
   "source": [
    "batch.yt.shape"
   ]
  },
  {
   "cell_type": "code",
   "execution_count": 7,
   "id": "c1d84d54",
   "metadata": {},
   "outputs": [],
   "source": [
    "ll_loss, pred = lbanp_model(batch)"
   ]
  },
  {
   "cell_type": "code",
   "execution_count": 14,
   "id": "8ce34ce3",
   "metadata": {},
   "outputs": [
    {
     "data": {
      "text/plain": [
       "AttrDict({'loss_target': tensor(666.4536, grad_fn=<NegBackward0>), 'loss_ctx': tensor(1781.4780, grad_fn=<MeanBackward0>), 'loss': tensor(2447.9316, grad_fn=<AddBackward0>), 'mean_std': tensor(0.0412, grad_fn=<MeanBackward0>), 'rmse': tensor(336.7043, grad_fn=<MeanBackward0>)})"
      ]
     },
     "execution_count": 14,
     "metadata": {},
     "output_type": "execute_result"
    }
   ],
   "source": [
    "tnp_model(batch)"
   ]
  },
  {
   "cell_type": "code",
   "execution_count": 17,
   "id": "1659b959",
   "metadata": {},
   "outputs": [
    {
     "data": {
      "text/plain": [
       "tensor([[[-0.4370, -1.0098,  0.1075, -0.9991,  0.4572],\n",
       "         [-0.1563, -0.3379,  0.4788,  0.1298,  0.6714],\n",
       "         [ 0.2853, -0.2805,  0.3360,  0.8649, -0.9022],\n",
       "         ...,\n",
       "         [ 1.2777,  0.1652,  0.6480,  0.2400,  1.1537],\n",
       "         [ 0.7377,  0.2597,  1.0902, -0.0205, -0.4204],\n",
       "         [ 0.1903, -0.3400,  0.1030, -0.1797,  0.2685]],\n",
       "\n",
       "        [[-0.3725,  0.3566, -1.8452,  0.7515,  0.4054],\n",
       "         [ 0.6287, -0.5361,  1.3953,  1.1158, -0.8499],\n",
       "         [-0.5555, -0.6780,  3.5492,  0.5310,  1.0871],\n",
       "         ...,\n",
       "         [ 1.2121,  0.1738,  2.3070, -1.4268,  1.1481],\n",
       "         [ 1.1972, -0.1266,  0.5311, -0.2256,  0.8538],\n",
       "         [ 1.8189, -0.7754, -0.6902, -0.3359, -0.3103]],\n",
       "\n",
       "        [[ 0.8968,  0.4521,  0.4219, -1.3565, -0.3342],\n",
       "         [-1.7084,  0.4685,  1.7808,  0.9149,  0.6502],\n",
       "         [ 1.3056, -1.0105, -0.4376,  0.3604,  2.1575],\n",
       "         ...,\n",
       "         [ 0.1437, -1.3362, -0.9561,  0.4158,  0.5472],\n",
       "         [ 1.8388, -0.7121, -1.5469, -0.1130, -0.5621],\n",
       "         [ 0.0080,  0.1850, -0.6720, -0.6795,  1.6926]],\n",
       "\n",
       "        ...,\n",
       "\n",
       "        [[ 0.0407, -0.8160,  0.8185,  1.5988, -0.4093],\n",
       "         [ 0.8885,  0.1904,  1.0838,  0.6029, -0.6884],\n",
       "         [-1.1326, -0.8777, -0.7864, -0.1927, -0.0262],\n",
       "         ...,\n",
       "         [-1.8833, -0.1137,  1.1378,  0.7634, -0.4765],\n",
       "         [ 0.7583, -0.5083, -0.6574, -0.2956, -0.6642],\n",
       "         [-0.4652,  0.3660, -2.9121, -2.3138, -0.6601]],\n",
       "\n",
       "        [[ 0.2336, -0.9078, -3.0400,  0.0697, -0.9246],\n",
       "         [-0.0799, -0.2100,  0.0333, -1.0211,  0.6834],\n",
       "         [ 0.7373, -0.6409,  0.4932, -1.2741,  0.5722],\n",
       "         ...,\n",
       "         [ 1.3237, -0.1843, -1.0159,  0.4781,  0.1066],\n",
       "         [ 0.1594,  0.2400, -0.7384, -0.2681,  1.3206],\n",
       "         [ 0.3304, -0.5155,  1.4736, -1.2121, -1.5946]],\n",
       "\n",
       "        [[ 1.2155,  0.4647,  3.0986,  0.9757, -0.1531],\n",
       "         [ 0.4487, -0.4357, -0.7376,  0.2422,  1.0059],\n",
       "         [ 1.2280, -0.4985,  0.4007, -0.5893,  0.3170],\n",
       "         ...,\n",
       "         [-2.3434, -0.6322, -0.5228,  0.4981, -0.9141],\n",
       "         [ 1.0390, -0.0212, -0.7804,  0.1184, -0.0295],\n",
       "         [ 0.3096, -0.4104, -0.8329, -0.5961, -0.9739]]])"
      ]
     },
     "execution_count": 17,
     "metadata": {},
     "output_type": "execute_result"
    }
   ],
   "source": [
    "pred.sample(torch.Size([10]))[1]"
   ]
  },
  {
   "cell_type": "code",
   "execution_count": 23,
   "id": "27913c06",
   "metadata": {},
   "outputs": [
    {
     "data": {
      "text/plain": [
       "torch.Size([8, 512, 5])"
      ]
     },
     "execution_count": 23,
     "metadata": {},
     "output_type": "execute_result"
    }
   ],
   "source": [
    "batch.yc.shape"
   ]
  },
  {
   "cell_type": "code",
   "execution_count": 8,
   "id": "b003fdc5",
   "metadata": {},
   "outputs": [],
   "source": [
    "import numpy as np\n",
    "a = np.random.randn(3,2,2)"
   ]
  },
  {
   "cell_type": "code",
   "execution_count": 9,
   "id": "5bbe2a65",
   "metadata": {},
   "outputs": [
    {
     "data": {
      "text/plain": [
       "array([[[ 0.21669559, -0.74235375],\n",
       "        [-0.16376122, -0.70650212]],\n",
       "\n",
       "       [[-0.53418005,  0.00455652],\n",
       "        [ 0.57478282,  0.07178991]],\n",
       "\n",
       "       [[ 0.75321925,  0.30662907],\n",
       "        [ 0.62068709,  0.79254104]]])"
      ]
     },
     "execution_count": 9,
     "metadata": {},
     "output_type": "execute_result"
    }
   ],
   "source": [
    "a"
   ]
  },
  {
   "cell_type": "code",
   "execution_count": 10,
   "id": "3bb2e403",
   "metadata": {},
   "outputs": [
    {
     "data": {
      "text/plain": [
       "array([[[ 0.21669559, -0.74235375],\n",
       "        [-0.16376122, -0.70650212]],\n",
       "\n",
       "       [[-0.53418005,  0.00455652],\n",
       "        [ 0.57478282,  0.07178991]],\n",
       "\n",
       "       [[ 0.75321925,  0.30662907],\n",
       "        [ 0.62068709,  0.79254104]]])"
      ]
     },
     "execution_count": 10,
     "metadata": {},
     "output_type": "execute_result"
    }
   ],
   "source": [
    "a.reshape(-1,2).reshape(3,2,2)"
   ]
  },
  {
   "cell_type": "code",
   "execution_count": null,
   "id": "da39a496",
   "metadata": {},
   "outputs": [],
   "source": []
  }
 ],
 "metadata": {
  "kernelspec": {
   "display_name": "lbanp",
   "language": "python",
   "name": "python3"
  },
  "language_info": {
   "codemirror_mode": {
    "name": "ipython",
    "version": 3
   },
   "file_extension": ".py",
   "mimetype": "text/x-python",
   "name": "python",
   "nbconvert_exporter": "python",
   "pygments_lexer": "ipython3",
   "version": "3.7.16"
  }
 },
 "nbformat": 4,
 "nbformat_minor": 5
}
